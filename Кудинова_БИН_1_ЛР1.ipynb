{
  "nbformat": 4,
  "nbformat_minor": 0,
  "metadata": {
    "colab": {
      "provenance": [],
      "authorship_tag": "ABX9TyMLIBH01Rg51q1W9k2uHEhq",
      "include_colab_link": true
    },
    "kernelspec": {
      "name": "python3",
      "display_name": "Python 3"
    },
    "language_info": {
      "name": "python"
    }
  },
  "cells": [
    {
      "cell_type": "markdown",
      "metadata": {
        "id": "view-in-github",
        "colab_type": "text"
      },
      "source": [
        "<a href=\"https://colab.research.google.com/github/katya123123/Study1/blob/main/%D0%9A%D1%83%D0%B4%D0%B8%D0%BD%D0%BE%D0%B2%D0%B0_%D0%91%D0%98%D0%9D_1_%D0%9B%D0%A01.ipynb\" target=\"_parent\"><img src=\"https://colab.research.google.com/assets/colab-badge.svg\" alt=\"Open In Colab\"/></a>"
      ]
    },
    {
      "cell_type": "code",
      "execution_count": 1,
      "metadata": {
        "colab": {
          "base_uri": "https://localhost:8080/"
        },
        "id": "I6Cd7u2u70FX",
        "outputId": "7cd1289f-363a-42f0-e4e0-7b11eb43039e"
      },
      "outputs": [
        {
          "output_type": "stream",
          "name": "stdout",
          "text": [
            "Привет\n"
          ]
        }
      ],
      "source": [
        "print(\"Привет\")"
      ]
    },
    {
      "cell_type": "code",
      "source": [
        "a = 12\n",
        "#print(a)\n"
      ],
      "metadata": {
        "id": "W02hYV_sJkL6"
      },
      "execution_count": 3,
      "outputs": []
    }
  ]
}